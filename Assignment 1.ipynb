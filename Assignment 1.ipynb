{
 "cells": [
  {
   "cell_type": "markdown",
   "metadata": {},
   "source": [
    "# Questions\n",
    "\n",
    "## Fuzzy sets\n",
    "\n",
    "1. What is the difference between a characteristic function and a membership function?"
   ]
  },
  {
   "cell_type": "markdown",
   "metadata": {},
   "source": [
    "A characteristic function is associated with classical set theory, which determines in a binary way wether or not an element belongs to a set. The membership function is a concept in fuzzy logic which dictates the degree of membership of said element in a fuzzy set. While the characteristic function has values of 0 or 1, the membership function can take any value between 0 and 1. The higher the value, the higher is the degree of membership to the fuzzy set. This allows fuzzy logic to model uncertainty, unlike classical set theory."
   ]
  },
  {
   "cell_type": "markdown",
   "metadata": {},
   "source": [
    "Consider the two fuzzy sets in the Universe of Discourse X ={−8, −6, −4, −2, 0, 2, 4, 6, 8}:\n"
   ]
  },
  {
   "cell_type": "code",
   "execution_count": 7,
   "metadata": {},
   "outputs": [
    {
     "data": {
      "image/png": "[encoded data removed]",
      "text/plain": [
       "<IPython.core.display.Image object>"
      ]
     },
     "execution_count": 7,
     "metadata": {},
     "output_type": "execute_result"
    }
   ],
   "source": [
    "from IPython.display import Image\n",
    "\n",
    "# Provide the file path or URL of the image\n",
    "image_path = 'C:/Users/AndreLopes/Desktop/git/Intelligent_Systems/img.png'\n",
    "\n",
    "# Display the image\n",
    "Image(filename=image_path)\n"
   ]
  },
  {
   "cell_type": "markdown",
   "metadata": {},
   "source": [
    "a) Are the membership functions valid in the given Universe?"
   ]
  },
  {
   "cell_type": "markdown",
   "metadata": {},
   "source": []
  },
  {
   "cell_type": "markdown",
   "metadata": {},
   "source": [
    "b) Compute the α-cuts of A and B for α = 0.3"
   ]
  },
  {
   "cell_type": "markdown",
   "metadata": {},
   "source": []
  },
  {
   "cell_type": "markdown",
   "metadata": {},
   "source": [
    "1. Develop a type zero or type one Takagi-Sugeno fuzzy model to classify the data. It is up\n",
    "to you to select the relevant quantities for various model parameters. However, you are\n",
    "required to estimate the optimal consequent parameters by using least-mean squares\n",
    "estimation. The input/output space partition should be obtained using either a grid, or\n",
    "fuzzy clustering (FCM or GK). You can use the Python libraries PyFUME or Scikit-Fuzzy. If\n",
    "you choose to use Matlab please use Mathworks Fuzzy Toolbox to derive the model.\n",
    "Save your optimal model along with any other relevant information (in Matlab it will be\n",
    "the file model.mat), or your Jupyter notebook and all the results from Python."
   ]
  },
  {
   "cell_type": "markdown",
   "metadata": {},
   "source": [
    "- No need for missing values imputation.\n",
    "- Scaling should'nt be necessary as it will probably leave out explainable details from the fuzzy model"
   ]
  },
  {
   "cell_type": "code",
   "execution_count": 5,
   "metadata": {},
   "outputs": [
    {
     "name": "stdout",
     "output_type": "stream",
     "text": [
      "target_class                    0\n",
      "Alcohol                         0\n",
      "Malic acid                      0\n",
      "Ash                             0\n",
      "Alcalinity of ash               0\n",
      "Magnesium                       0\n",
      "Total phenols                   0\n",
      "Flavanoids                      0\n",
      "Nonflavanoid phenols            0\n",
      "Proanthocyanins                 0\n",
      "Color intensity                 0\n",
      "Hue                             0\n",
      "OD280/OD315 of diluted wines    0\n",
      "Proline                         0\n",
      "dtype: int64\n"
     ]
    }
   ],
   "source": [
    "import pandas as pd\n",
    "\n",
    "attributes = ['target_class', 'Alcohol', 'Malic acid', 'Ash', 'Alcalinity of ash', 'Magnesium', 'Total phenols','Flavanoids', 'Nonflavanoid phenols', 'Proanthocyanins', 'Color intensity', 'Hue','OD280/OD315 of diluted wines', 'Proline']\n",
    "df = pd.read_csv('wine.data', names=attributes)\n",
    "#print(df.head())\n",
    "\n",
    "missing_values = df.isna().sum()\n",
    "print(missing_values)"
   ]
  },
  {
   "cell_type": "code",
   "execution_count": 11,
   "metadata": {},
   "outputs": [
    {
     "data": {
      "image/png": "[encoded data removed]",
      "text/plain": [
       "<Figure size 800x600 with 1 Axes>"
      ]
     },
     "metadata": {},
     "output_type": "display_data"
    }
   ],
   "source": [
    "import matplotlib.pyplot as plt\n",
    "\n",
    "class_counts = df['target_class'].value_counts()\n",
    "\n",
    "# Create a bar plot\n",
    "plt.figure(figsize=(8, 6))  # Optional: Adjust the figure size\n",
    "ax = class_counts.plot(kind='bar', color='skyblue')\n",
    "\n",
    "# Add labels and title\n",
    "plt.xlabel('Class')\n",
    "plt.ylabel('Count')\n",
    "plt.title('Number of Entries for Each Class')\n",
    "\n",
    "# Correct the orientation of x-axis labels to be horizontal (0 degrees)\n",
    "ax.set_xticklabels(ax.get_xticklabels(), rotation=0)\n",
    "\n",
    "# Display the plot\n",
    "plt.tight_layout()  # Optional: Ensures labels are not cut off\n",
    "plt.show()\n",
    "\n"
   ]
  },
  {
   "cell_type": "markdown",
   "metadata": {},
   "source": [
    "2. Write a brief report G**_A1_report (where “**” should be replaced by your group\n",
    "number) in which you explain how you determined the classification model. This report\n",
    "should include also the main obtained results, which must be discussed. The report can\n",
    "be obtained directly from your notebook as long as it includes all the referred\n",
    "information (you can use Markdown for the text of the report). A pdf file generated by\n",
    "LATEX or word is also acceptable."
   ]
  },
  {
   "cell_type": "markdown",
   "metadata": {},
   "source": [
    "3. Write a script (in Matlab is model.m in Python is for example model.py) that reads\n",
    "your data (as e.g. model.mat) and classify the test set. Your script should save the\n",
    "vector of classification values y to a file."
   ]
  },
  {
   "cell_type": "code",
   "execution_count": null,
   "metadata": {},
   "outputs": [],
   "source": []
  },
  {
   "cell_type": "markdown",
   "metadata": {},
   "source": [
    "4. Your deliverables should be available in the group GitHub and the report\n",
    "G**_A1_report.pdf) is delivered in Fenix system and has to include the link for\n",
    "GitHub ."
   ]
  },
  {
   "cell_type": "code",
   "execution_count": null,
   "metadata": {},
   "outputs": [],
   "source": []
  }
 ],
 "metadata": {
  "kernelspec": {
   "display_name": "Python 3.10.11 64-bit (microsoft store)",
   "language": "python",
   "name": "python3"
  },
  "language_info": {
   "codemirror_mode": {
    "name": "ipython",
    "version": 3
   },
   "file_extension": ".py",
   "mimetype": "text/x-python",
   "name": "python",
   "nbconvert_exporter": "python",
   "pygments_lexer": "ipython3",
   "version": "3.10.11"
  },
  "orig_nbformat": 4,
  "vscode": {
   "interpreter": {
    "hash": "a2a76e7499c148f1f28356aefab6a3e74ea43ca0d7cf717d20d46081de7735c6"
   }
  }
 },
 "nbformat": 4,
 "nbformat_minor": 2
}
