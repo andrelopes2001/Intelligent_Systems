{
 "cells": [
  {
   "cell_type": "code",
   "execution_count": 5,
   "metadata": {},
   "outputs": [],
   "source": [
    "import pandas as pd\n",
    "import numpy as np\n",
    "import matplotlib.pyplot as plt\n",
    "from sklearn.preprocessing import MinMaxScaler, StandardScaler, LabelEncoder\n",
    "from sklearn.model_selection import train_test_split\n",
    "from sklearn.datasets import load_iris, load_breast_cancer\n",
    "from sklearn.metrics import accuracy_score, f1_score, precision_score, recall_score, classification_report, confusion_matrix, roc_curve, auc, roc_auc_score, cohen_kappa_score, matthews_corrcoef\n",
    "\n",
    "from almmo0 import ALMMo0"
   ]
  },
  {
   "cell_type": "code",
   "execution_count": 2,
   "metadata": {},
   "outputs": [],
   "source": [
    "# Read train_df and test_df\n",
    "train_df = pd.read_csv('dataframes/train_df.csv')\n",
    "test_df = pd.read_csv('dataframes/test_df.csv')\n",
    "\n",
    "target_column = 'Type'\n",
    "other_column_names = [col for col in train_df.columns if col != target_column]\n",
    "\n",
    "# Encode the target variable into numerical values\n",
    "le = LabelEncoder()\n",
    "train_df[target_column] = le.fit_transform(train_df[target_column])\n",
    "test_df[target_column] = le.fit_transform(test_df[target_column])"
   ]
  },
  {
   "cell_type": "code",
   "execution_count": 13,
   "metadata": {},
   "outputs": [
    {
     "name": "stdout",
     "output_type": "stream",
     "text": [
      "Recall: 28.6%\n",
      "F1-score: 20.0%\n",
      "Cohen Kappa: 0.035\n",
      "Matthews Corrcoef:  0.04507745382324027\n",
      "Classification report: \n",
      "               precision    recall  f1-score   support\n",
      "\n",
      "           0       0.02      0.26      0.03       165\n",
      "           1       0.83      0.44      0.58     18088\n",
      "           2       0.13      0.28      0.17      1639\n",
      "           3       0.04      0.18      0.06       557\n",
      "           4       0.11      0.25      0.15      1441\n",
      "\n",
      "    accuracy                           0.41     21890\n",
      "   macro avg       0.22      0.29      0.20     21890\n",
      "weighted avg       0.71      0.41      0.50     21890\n",
      "\n"
     ]
    }
   ],
   "source": [
    "X_train = train_df[other_column_names].to_numpy()\n",
    "y_train = train_df[target_column].to_numpy()\n",
    "X_test = test_df[other_column_names].to_numpy()\n",
    "y_test = test_df[target_column].to_numpy()\n",
    "\n",
    "model = ALMMo0()\n",
    "model.fit(X_train, y_train)\n",
    "\n",
    "y_pred = model.predict(X_test)\n",
    "\n",
    "# Print recall, f1-score, cohen kappa, matthews corrcoef, classification report\n",
    "recall = recall_score(y_test, y_pred, average='macro')\n",
    "f1 = f1_score(y_test, y_pred, average='macro')\n",
    "print(f'Recall: {recall*100:.1f}%')\n",
    "print(f'F1-score: {f1*100:.1f}%')\n",
    "print(f'Cohen Kappa: {cohen_kappa_score(y_test, y_pred):.3f}')\n",
    "print(f'Matthews Corrcoef: ', matthews_corrcoef(y_test, y_pred))\n",
    "print('Classification report: \\n', classification_report(y_test, y_pred))"
   ]
  }
 ],
 "metadata": {
  "kernelspec": {
   "display_name": "Python 3.10.8 ('adv_automation')",
   "language": "python",
   "name": "python3"
  },
  "language_info": {
   "codemirror_mode": {
    "name": "ipython",
    "version": 3
   },
   "file_extension": ".py",
   "mimetype": "text/x-python",
   "name": "python",
   "nbconvert_exporter": "python",
   "pygments_lexer": "ipython3",
   "version": "3.10.8"
  },
  "orig_nbformat": 4,
  "vscode": {
   "interpreter": {
    "hash": "d975b6352e2992c150261c4076170f1cbfd593e2a88cac8017f667d1e80cb987"
   }
  }
 },
 "nbformat": 4,
 "nbformat_minor": 2
}
