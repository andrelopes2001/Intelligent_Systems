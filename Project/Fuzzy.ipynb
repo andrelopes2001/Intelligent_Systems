{
 "cells": [
  {
   "cell_type": "code",
   "execution_count": 25,
   "metadata": {},
   "outputs": [],
   "source": [
    "import pandas as pd\n",
    "import numpy as np\n",
    "import matplotlib.pyplot as plt\n",
    "from sklearn.preprocessing import MinMaxScaler, StandardScaler, LabelEncoder\n",
    "from sklearn.model_selection import train_test_split\n",
    "from sklearn.datasets import load_iris, load_breast_cancer\n",
    "from sklearn.metrics import accuracy_score, f1_score, precision_score, recall_score, classification_report, confusion_matrix, roc_curve, auc, roc_auc_score\n",
    "\n",
    "from almmo0 import ALMMo0"
   ]
  },
  {
   "cell_type": "code",
   "execution_count": 19,
   "metadata": {},
   "outputs": [],
   "source": [
    "# Read csv\n",
    "processed_df = pd.read_csv('dataframes/processed_df.csv')\n",
    "\n",
    "data_iris = load_iris()\n",
    "X_iris = data_iris.data\n",
    "Y_iris = data_iris.target\n",
    "\n",
    "data_breast_cancer = load_breast_cancer()\n",
    "X_breast_cancer = data_breast_cancer.data\n",
    "Y_breast_cancer = data_breast_cancer.target\n",
    "\n",
    "target_column = 'Type'\n",
    "other_column_names = ['RR interval', 'Signal 1 mean', 'Signal 1 std', 'Signal 1 median', 'Signal 1 mean absolute deviation', 'Signal 1 quantile 25', 'Signal 1 quantile 75', 'Signal 1 iqr', 'Signal 1 peak', 'Signal 1 valley', 'Signal 1 skewness', 'Signal 1 kurtosis', 'Signal 1 entropy', 'Signal 1 psd entropy', 'Signal 1 psd dominant frequency', 'Signal 1 psd dominant magnitude', \n",
    "                                     'Signal 2 mean', 'Signal 2 std', 'Signal 2 median', 'Signal 2 mean absolute deviation', 'Signal 2 quantile 25', 'Signal 2 quantile 75', 'Signal 2 iqr', 'Signal 2 peak', 'Signal 2 valley', 'Signal 2 skewness', 'Signal 2 kurtosis', 'Signal 2 entropy', 'Signal 2 psd entropy', 'Signal 2 psd dominant frequency', 'Signal 2 psd dominant magnitude']\n",
    "\n",
    "# Encode the target variable into numerical values\n",
    "le = LabelEncoder()\n",
    "processed_df[target_column] = le.fit_transform(processed_df[target_column])"
   ]
  },
  {
   "cell_type": "code",
   "execution_count": 29,
   "metadata": {},
   "outputs": [
    {
     "name": "stdout",
     "output_type": "stream",
     "text": [
      "Accuracy:  0.35118306351183065\n",
      "Recall:  0.35118306351183065\n",
      "Precision:  0.34967615425492243\n",
      "F1-score:  0.3501505907918787\n",
      "Confusion matrix: \n",
      " [[82 24  3 25 26]\n",
      " [31 40 27 27 35]\n",
      " [ 5 38 71 18 29]\n",
      " [19 28 32 50 32]\n",
      " [22 26 44 30 39]]\n",
      "Classification report: \n",
      "               precision    recall  f1-score   support\n",
      "\n",
      "           0       0.52      0.51      0.51       160\n",
      "           1       0.26      0.25      0.25       160\n",
      "           2       0.40      0.44      0.42       161\n",
      "           3       0.33      0.31      0.32       161\n",
      "           4       0.24      0.24      0.24       161\n",
      "\n",
      "    accuracy                           0.35       803\n",
      "   macro avg       0.35      0.35      0.35       803\n",
      "weighted avg       0.35      0.35      0.35       803\n",
      "\n"
     ]
    }
   ],
   "source": [
    "X = processed_df[other_column_names].to_numpy()\n",
    "y = processed_df[target_column].to_numpy()\n",
    "\n",
    "# Split the dataset into training and testing sets\n",
    "X_train, X_test, y_train, y_test = train_test_split(X, y, stratify=y, test_size=0.2)\n",
    "\n",
    "model = ALMMo0()\n",
    "model.fit(X_train, y_train)\n",
    "\n",
    "y_pred = model.predict(X_test)\n",
    "\n",
    "# Print accuracy, recall, f1-score, and confusion matrix\n",
    "print('Accuracy: ', accuracy_score(y_test, y_pred))\n",
    "print('Recall: ', recall_score(y_test, y_pred, average='weighted'))\n",
    "print('Precision: ', precision_score(y_test, y_pred, average='weighted'))\n",
    "print('F1-score: ', f1_score(y_test, y_pred, average='weighted'))\n",
    "print('Confusion matrix: \\n', confusion_matrix(y_test, y_pred))\n",
    "print('Classification report: \\n', classification_report(y_test, y_pred))\n"
   ]
  }
 ],
 "metadata": {
  "kernelspec": {
   "display_name": "Python 3.10.8 ('adv_automation')",
   "language": "python",
   "name": "python3"
  },
  "language_info": {
   "codemirror_mode": {
    "name": "ipython",
    "version": 3
   },
   "file_extension": ".py",
   "mimetype": "text/x-python",
   "name": "python",
   "nbconvert_exporter": "python",
   "pygments_lexer": "ipython3",
   "version": "3.10.8"
  },
  "orig_nbformat": 4,
  "vscode": {
   "interpreter": {
    "hash": "d975b6352e2992c150261c4076170f1cbfd593e2a88cac8017f667d1e80cb987"
   }
  }
 },
 "nbformat": 4,
 "nbformat_minor": 2
}
